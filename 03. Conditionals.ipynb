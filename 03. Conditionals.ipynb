{
 "cells": [
  {
   "cell_type": "markdown",
   "metadata": {
    "id": "cD-DLGexH9CC"
   },
   "source": [
    "# Delphine de Sanglier"
   ]
  },
  {
   "cell_type": "code",
   "execution_count": null,
   "metadata": {},
   "outputs": [],
   "source": [
    "# 3.1 Price Conditions\n",
    "# Translate the following logical decisions into python conditionals"
   ]
  },
  {
   "cell_type": "code",
   "execution_count": 3,
   "metadata": {
    "id": "IJ1XixENH9CI"
   },
   "outputs": [],
   "source": [
    "# A. If the price is under 10, add 10% tax to the price. \n",
    "# Otherwise, add 15% luxury tax instead.\n",
    "price = 25\n",
    "\n",
    "if price < 10:\n",
    "    price = price * 1.1\n",
    "else:\n",
    "    price = price * 1.15\n"
   ]
  },
  {
   "cell_type": "code",
   "execution_count": 4,
   "metadata": {
    "id": "3V0FrvElH9CJ"
   },
   "outputs": [
    {
     "data": {
      "text/plain": [
       "23.0"
      ]
     },
     "execution_count": 4,
     "metadata": {},
     "output_type": "execute_result"
    }
   ],
   "source": [
    "# B. If the customer's status is \"VIP\", lower the price by 20%\n",
    "customer = { \"name\": \"Lisa Su\", \"status\": \"VIP\" }\n",
    "\n",
    "if customer['status'] == \"VIP\":\n",
    "    price = price *0.8\n",
    "    \n",
    "price"
   ]
  },
  {
   "cell_type": "code",
   "execution_count": 4,
   "metadata": {
    "id": "037NEWn-H9CK"
   },
   "outputs": [
    {
     "name": "stdout",
     "output_type": "stream",
     "text": [
      "You get what you pay for. Get the most. Buy now for 23.0\n"
     ]
    }
   ],
   "source": [
    "# C. Let's alter our advertising based on the price of the product, filling in the blank with the price\n",
    "#    i. If the price is less than 5, print \"For less than a cup of coffee, buy now for _____\"\n",
    "if price < 5:\n",
    "    print(\"For less than a cup of coffee, buy now for \", price)\n",
    "    \n",
    "#.   ii. Otherwise, if the price is less than 20, print \"Good value. Great products. Buy now for _____\"\n",
    "elif price < 20:\n",
    "    print(\"Good value. Great products. Buy now for \", price)\n",
    "    \n",
    "#.   iii. Otherwise, print \"You get what you pay for. Get the most. Buy now for ______\"\n",
    "else:\n",
    "    print(\"You get what you pay for. Get the most. Buy now for\", price)"
   ]
  },
  {
   "cell_type": "code",
   "execution_count": null,
   "metadata": {
    "id": "rDhZp71TH9CL"
   },
   "outputs": [],
   "source": [
    "# D. Given this list of products, use a conditional to figure out which has the lower price.\n",
    "#.   Print a message saying \"Your best value is the _____ for only ______\"\n",
    "#.   Fill in the blanks with the name and price of the cheaper item, respectively\n",
    "bargain_bin = [\n",
    "    {\"name\": \"90s Comedy DVD\", \"price\": 2.99},\n",
    "    {\"name\": \"80s Drama DVD\", \"price\": 3.99}\n",
    "]\n",
    "\n"
   ]
  },
  {
   "cell_type": "code",
   "execution_count": null,
   "metadata": {
    "id": "v4_tdefuH9CM"
   },
   "outputs": [],
   "source": [
    "# 3.2 Complex Conditions"
   ]
  },
  {
   "cell_type": "code",
   "execution_count": 6,
   "metadata": {
    "id": "qWb0kDl8H9CM"
   },
   "outputs": [
    {
     "name": "stdout",
     "output_type": "stream",
     "text": [
      "b  is not a vowel\n"
     ]
    }
   ],
   "source": [
    "# A. Write a conditional that determines whether the letter is a vowel\n",
    "#.   Print a message stating \"___ is a vowel\" or \"___ is not a vowel\"\n",
    "letter = \"b\"\n",
    "vowel = [\"a\", \"e\", \"i\", \"o\", \"u\", \"y\"]\n",
    "\n",
    "if letter in vowel:\n",
    "    print(letter, \" is a vowel\")\n",
    "else:\n",
    "    print(letter, \" is not a vowel\")"
   ]
  },
  {
   "cell_type": "code",
   "execution_count": 15,
   "metadata": {
    "id": "h4X4vlysH9CN"
   },
   "outputs": [
    {
     "name": "stdout",
     "output_type": "stream",
     "text": [
      "win\n"
     ]
    }
   ],
   "source": [
    "# B. Determine whether the player beat the computer at rock, paper, scissors\n",
    "#    As a reminder, \"scissors\" beats \"paper\", \"rock\" beats \"scissors\", and \"rock\" beats \"scissors\"\n",
    "#.   Print a message saying whether the player won, lost, or tied\n",
    "player_choice = \"rock\"\n",
    "computer_choice = \"scissors\"\n",
    "\n",
    "if player_choice == \"rock\":\n",
    "    if computer_choice == \"rock\":\n",
    "        print(\"tied\")\n",
    "    elif computer_choice == \"paper\":\n",
    "        print(\"lost\")\n",
    "    else:\n",
    "        print(\"win\")\n",
    "elif player_choice == \"paper\":\n",
    "    if computer_choice == \"rock\":\n",
    "        print(\"win\")\n",
    "    elif computer_choice == \"paper\":\n",
    "        print(\"tied\")\n",
    "    else:\n",
    "        print(\"lost\")\n",
    "else:\n",
    "    if computer_choice == \"rock\":\n",
    "        print(\"lost\")\n",
    "    elif computer_choice == \"paper\":\n",
    "        print(\"win\")\n",
    "    else:\n",
    "        print(\"tied\")"
   ]
  },
  {
   "cell_type": "code",
   "execution_count": 17,
   "metadata": {
    "id": "z2d5ABEmH9CO"
   },
   "outputs": [
    {
     "name": "stdout",
     "output_type": "stream",
     "text": [
      "isoceles\n"
     ]
    }
   ],
   "source": [
    "# C. Write the code that determines if the triangle is:\n",
    "#      equilateral - all three sides are equal in length\n",
    "#      scalene - all three sides are unequal in length\n",
    "#      isosceles - two sides are the same length\n",
    "side_a = 5\n",
    "side_b = 7\n",
    "side_c = 5\n",
    "\n",
    "\n",
    "if side_a == side_b and side_b == side_c:\n",
    "    print('equilateral')\n",
    "elif side_a == side_b or side_b == side_c or side_a == side_c:\n",
    "    print(\"isoceles\")\n",
    "else:\n",
    "    print(\"scalene\")\n"
   ]
  },
  {
   "cell_type": "code",
   "execution_count": 2,
   "metadata": {
    "id": "SaB4JE76H9CP"
   },
   "outputs": [
    {
     "name": "stdout",
     "output_type": "stream",
     "text": [
      "Sep 25 is in autumn\n"
     ]
    }
   ],
   "source": [
    "# D. Calculate what season it is based upon this chart:\n",
    "#      Dec 21 - Mar 19: Winter\n",
    "#      Mar 20 - Jun 20: Spring\n",
    "#      Jun 21 - Sep 21: Summer\n",
    "#      Sep 22 - Dec 20: Fall\n",
    "# Print the result as follows:\n",
    "#      <Mmm> <dd> is in <season> \n",
    "month = \"Sep\"\n",
    "day = 25\n",
    "\n",
    "if month in ('January', 'February', 'March'):\n",
    "    season = 'winter'\n",
    "elif month in ('April', 'May', 'June'):\n",
    "    season = 'spring'\n",
    "elif month in ('July', 'August', 'September'):\n",
    "    season = 'summer'\n",
    "else:\n",
    "    season = 'autumn'\n",
    "\n",
    "if (month == 'March') and (day > 19):\n",
    "    season = 'spring'\n",
    "elif (month == 'June') and (day > 20):\n",
    "    season = 'summer'\n",
    "elif (month == 'September') and (day > 21):\n",
    "    season = 'autumn'\n",
    "elif (month == 'December') and (day > 20):\n",
    "    season = 'winter'\n",
    "\n",
    "print(month, day, \"is in\", season)\n"
   ]
  },
  {
   "cell_type": "code",
   "execution_count": 28,
   "metadata": {
    "id": "tx03G_EzH9CQ"
   },
   "outputs": [
    {
     "name": "stdout",
     "output_type": "stream",
     "text": [
      "The chicken ate the grain\n"
     ]
    }
   ],
   "source": [
    "# E. The Farmer's Boat\n",
    "boat = {\n",
    "    \"has_fox\": False,\n",
    "    \"has_chicken\": True,\n",
    "    \"has_grain\": True\n",
    "}\n",
    "\n",
    "# added a first condition : does the boat has anything or not? \n",
    "\n",
    "if boat[\"has_fox\"] or boat[\"has_chicken\"] or boat[\"has_grain\"]:\n",
    "\n",
    "# 1. If all three properties are true, print \"The boat was too heavy and sank\"    \n",
    "    if boat[\"has_fox\"] and boat[\"has_chicken\"] and boat[\"has_grain\"]:\n",
    "        print(\"The boat was too heavy and sank\")\n",
    "\n",
    "# 2. If the boat's has_fox and has_chicken properties are true, print \"The fox ate the chicken\" \n",
    "    elif  boat[\"has_fox\"] and boat[\"has_chicken\"]:\n",
    "        print(\"The fox ate the chicken\")\n",
    "    \n",
    "# 3. If the boat's has_chicken and has_grain propertes are true, print \"The chicken ate the grain\"\n",
    "    elif boat[\"has_chicken\"] and boat[\"has_grain\"]:\n",
    "        print(\"The chicken ate the grain\")\n",
    "        \n",
    "# 5. Otherwise, print \"The boat is in a valid, productive state. Go boat!\"    \n",
    "    else:\n",
    "        print(\"The boat is in a valid, productive state. Go boat!\")\n",
    "\n",
    "        \n",
    "# 4. If none of them are true, print \"The boat sank from disuse\"\n",
    "else:\n",
    "    print(\"The boat sank from disuse\")\n",
    "\n"
   ]
  },
  {
   "cell_type": "code",
   "execution_count": null,
   "metadata": {},
   "outputs": [],
   "source": []
  }
 ],
 "metadata": {
  "colab": {
   "collapsed_sections": [],
   "name": "03. Conditionals.ipynb",
   "provenance": []
  },
  "kernelspec": {
   "display_name": "Python 3",
   "language": "python",
   "name": "python3"
  },
  "language_info": {
   "codemirror_mode": {
    "name": "ipython",
    "version": 3
   },
   "file_extension": ".py",
   "mimetype": "text/x-python",
   "name": "python",
   "nbconvert_exporter": "python",
   "pygments_lexer": "ipython3",
   "version": "3.6.10"
  }
 },
 "nbformat": 4,
 "nbformat_minor": 1
}
