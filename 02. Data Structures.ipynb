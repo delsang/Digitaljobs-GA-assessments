{
 "cells": [
  {
   "cell_type": "markdown",
   "metadata": {},
   "source": [
    "# Delphine de Sanglier "
   ]
  },
  {
   "cell_type": "code",
   "execution_count": null,
   "metadata": {},
   "outputs": [],
   "source": [
    "# 2.1 Colors of the Rainbow\n",
    "# A. Make a list called colors that stores 7 strings, each a color of the rainbow\n",
    "\n",
    "colors = [ \"red\", \"orange\", \"yellow\", \"green\", \"blue\", \"indigo\", \"violet\"]\n",
    "\n",
    "# B. Then, print the following string, using list indices to access the specific colors:\n",
    "print( f\"The colors of the rainbow are {colors[0]}, {colors[1]}, {colors[2]}, {colors[3]}, {colors[4]}, {colors[5]}, {colors[6]}!\")\n",
    "\n",
    "# \"The colors of the rainbow are red, orange, yellow, green, blue, indigo, and violet\"\n",
    "#  String concatenation might get a bit complex to read: try using an f-string for string interpolation!\n",
    "\n",
    "# C. Change two of the colors to more descriptive names, such as \"Lightning Yellow\" or \"Deep Sea Blue\"\n",
    "colors[2] = \"Lightning Yellow\"\n",
    "colors[4] = \"Deep Sea Blue\"\n",
    "\n",
    "# D. Print the two new color names using list indices to access them\n",
    "print(colors[2])\n",
    "print(colors[4])\n",
    "\n",
    "# E. Print the colors variable to see the difference between printing a specific item and printing the list itself\n",
    "colors"
   ]
  },
  {
   "cell_type": "code",
   "execution_count": null,
   "metadata": {},
   "outputs": [],
   "source": [
    "# 2.2 The Wait List\n",
    "# You will have to research some new methods to use for these challenges\n",
    "# You can use print statements to investigate whether your changes have succeeded as expected\n",
    "candidates = [\"Alice\", \"Boris\", \"Carmen\"]\n",
    "\n",
    "# A. A promising new applicant, Diego, needs to be added to the end of the list\n",
    "candidates.append(\"Diego\")\n",
    "\n",
    "# B. Alice has informed us of a typo on their application: change their name to \"Alyce\"\n",
    "candidates[0] = \"Alyce\"\n",
    "\n",
    "# C. One of our generous donors has a nephew, Aaron, who should be added to the very front of the list\n",
    "candidates.insert(0, \"Aaron\")\n",
    "\n",
    "# D. Boris's parents are concerned. Use the .index() method to print a message explaining Boris's place in the list\n",
    "CandidatePosition = candidates.index(\"Boris\") + 1\n",
    "print('Boris is in position', CandidatePosition , 'on the list')\n",
    "\n",
    "\n",
    "# E. Carmen is upset by the priority given to relatives of donors, and has withdrawn their application.\n",
    "#    Use the .remove() method to remove them from the list.\n",
    "candidates.remove('Carmen')\n",
    "\n",
    "# F. Use a method to remove the very first student in the list, as they have now been accepted!\n",
    "candidates.pop()\n",
    "\n",
    "# G. DeSean has submitted an impressive personal statement. Place them at index 1 by using .insert()\n",
    "candidates.insert(1, \"DeSean\")\n",
    "\n",
    "# H. We've been audited by the Board for Educational Fairness! Print the list of candidates.\n",
    "#    It should look like this: [\"Alyce\", \"DeSean\", Boris\", \"Diego\"]\n",
    "candidates"
   ]
  },
  {
   "cell_type": "code",
   "execution_count": null,
   "metadata": {},
   "outputs": [],
   "source": [
    "# 2.3 Key Value Properties\n",
    "# Use the house dictionary for the following challenges\n",
    "house = { \"address\": \"123 Fake Street\", \"price\": 750000, \"bedrooms\": 3}\n",
    "\n",
    "# A. Buyers can't find the house without a zip code! Add a zip_code property equal to \"95404\"\n",
    "house[\"zip_code\"] = \"95404\"\n",
    "\n",
    "\n",
    "# B. Our web designers want a statement reading: \"This 3 bedroom house costs 250000\"\n",
    "#    Print that statement by accessing the values from the dictionary: do NOT \"hard-code\" the string!\n",
    "print('this', house['bedrooms'], \"bedrooms house costs\", house['price'])\n",
    "\n",
    "# C. We're getting a lot of interest in the house! Let's increase the price by 10%\n",
    "house[\"price\"] = int(house['price']*1.1) ## int() because we end up with plenty of useless decimals\n",
    "\n",
    "# D. Buyers are surprised at how small the house is. Let's add a square_feet property equal to 750\n",
    "house['square_feet'] = 750\n",
    "\n",
    "\n",
    "# E. We want to show off the value per foot. Print a message explaining the price per square foot.\n",
    "print('This is a', house['square_feet'], 'square foot house')\n",
    "\n",
    "# F. After 2 long hours on the market, the house has finally sold! Add a status property equal to \"sold\"\n",
    "house[\"Status\"] = \"Sold\"\n",
    "\n",
    "# G. Print the entire listing. You should see a dictionary similar to the following:\n",
    "# {address: \"123 Fake Street\", price: 825000, bedrooms: 3, zip_code: \"95404\" square_feet: 750, status: \"sold\"}\n",
    "house"
   ]
  },
  {
   "cell_type": "code",
   "execution_count": 46,
   "metadata": {},
   "outputs": [],
   "source": [
    "# 2.4 Python Librarian\n",
    "\n",
    "authors = {\n",
    "    \"Arundhati Roy\": {\n",
    "        \"genre\": \"literary fiction\",\n",
    "        \"books\": [\n",
    "            \"The God of Small Things\",\n",
    "            \"The Ministry of Utmost Happiness\"\n",
    "        ],\n",
    "        \"active\": True\n",
    "    },\n",
    "    \"Brandon Sanderson\": {\n",
    "        \"genre\": \"fantasy\",\n",
    "        \"books\": [\n",
    "            \"The Way of Kings\",\n",
    "            \"Words of Radiance\",\n",
    "            \"Oathbringer\"\n",
    "        ],\n",
    "        \"active\": True,\n",
    "        \"phone\": {\n",
    "            \"home\": \"(281) 330-8004\",\n",
    "            \"work\": \"(877) CASH-NOW\"\n",
    "        }\n",
    "    },\n",
    "    \"Kobo Abe\": {\n",
    "        \"genre\": \"absurdist fiction\",\n",
    "        \"books\": [\n",
    "            \"The Woman in the Dunes\",\n",
    "            \"The Face of Another\"\n",
    "        ],\n",
    "        \"active\": False\n",
    "    },\n",
    "}"
   ]
  },
  {
   "cell_type": "code",
   "execution_count": 47,
   "metadata": {},
   "outputs": [
    {
     "data": {
      "text/plain": [
       "'The God of Small Things'"
      ]
     },
     "execution_count": 47,
     "metadata": {},
     "output_type": "execute_result"
    }
   ],
   "source": [
    "# A. Access and print Arundhati Roy's first book\n",
    "authors[\"Arundhati Roy\"][\"books\"][0]"
   ]
  },
  {
   "cell_type": "code",
   "execution_count": 48,
   "metadata": {},
   "outputs": [
    {
     "data": {
      "text/plain": [
       "'(877) CASH-NOW'"
      ]
     },
     "execution_count": 48,
     "metadata": {},
     "output_type": "execute_result"
    }
   ],
   "source": [
    "# B. We need to contact Brandon at work: access and print their work phone number\n",
    "authors[\"Brandon Sanderson\"][\"phone\"][\"work\"]"
   ]
  },
  {
   "cell_type": "code",
   "execution_count": 20,
   "metadata": {},
   "outputs": [
    {
     "data": {
      "text/plain": [
       "['literary fiction', 'fantasy', 'absurdist fiction']"
      ]
     },
     "execution_count": 20,
     "metadata": {},
     "output_type": "execute_result"
    }
   ],
   "source": [
    "# C. Create a list composed of all the genres available in our library\n",
    "genres = [ \n",
    "    authors[\"Arundhati Roy\"][\"genre\"], \n",
    "    authors[\"Brandon Sanderson\"][\"genre\"], \n",
    "    authors[\"Kobo Abe\"][\"genre\"] \n",
    "           ]\n",
    "genres"
   ]
  },
  {
   "cell_type": "code",
   "execution_count": 10,
   "metadata": {},
   "outputs": [
    {
     "data": {
      "text/plain": [
       "['The God of Small Things',\n",
       " 'The Ministry of Utmost Happiness',\n",
       " 'The Way of Kings',\n",
       " 'Words of Radiance',\n",
       " 'Oathbringer',\n",
       " 'The Woman in the Dunes',\n",
       " 'The Face of Another']"
      ]
     },
     "execution_count": 10,
     "metadata": {},
     "output_type": "execute_result"
    }
   ],
   "source": [
    "# D. Create a list of all books available in our library\n",
    "\n",
    "# Using the same method as the previous point\n",
    "all_books = [\n",
    "    authors[\"Arundhati Roy\"][\"books\"],\n",
    "    authors[\"Brandon Sanderson\"][\"books\"],\n",
    "    authors[\"Kobo Abe\"][\"books\"]\n",
    "    ]\n",
    "\n",
    "# We end up with a nested list that needs to be flattened, we can use a list comprehension which are pretty cool but not \n",
    "# that easy to comprehend (...for now!)\n",
    "\n",
    "all_books = [book for sublist in all_books for book in sublist] \n",
    "\n",
    "all_books"
   ]
  },
  {
   "cell_type": "code",
   "execution_count": 21,
   "metadata": {},
   "outputs": [
    {
     "data": {
      "text/plain": [
       "['literary fiction', 'non-fiction']"
      ]
     },
     "execution_count": 21,
     "metadata": {},
     "output_type": "execute_result"
    }
   ],
   "source": [
    "# E. Arundhati has decided to expand their range of genres and tackle non-fiction\n",
    "#    Modify their \"genre\" property to now be a list that also includes non-fiction\n",
    "\n",
    "# Create a list with the old genre and the new one\n",
    "\n",
    "new_genres = [authors[\"Arundhati Roy\"][\"genre\"], 'non-fiction']\n",
    "\n",
    "# Replace old value by the new list \n",
    "\n",
    "authors[\"Arundhati Roy\"][\"genre\"] = new_genres\n",
    "\n",
    "# Print to check\n",
    "authors[\"Arundhati Roy\"][\"genre\"]"
   ]
  },
  {
   "cell_type": "code",
   "execution_count": 30,
   "metadata": {},
   "outputs": [],
   "source": [
    "# F. Brandon Sanderson is retiring. Change their active property to False.\n",
    "#    BONUS: This means we should no longer contact them. Delete their \"phone\" property\n",
    "\n",
    "authors[\"Brandon Sanderson\"][\"active\"] = False\n",
    "\n",
    "# Bonus\n",
    "\n",
    "del authors[\"Brandon Sanderson\"][\"phone\"]\n"
   ]
  },
  {
   "cell_type": "code",
   "execution_count": 44,
   "metadata": {},
   "outputs": [
    {
     "data": {
      "text/plain": [
       "{'Arundhati Roy': {'genre': 'literary fiction',\n",
       "  'books': ['The God of Small Things', 'The Ministry of Utmost Happiness'],\n",
       "  'active': True},\n",
       " 'Brandon Sanderson': {'genre': 'fantasy',\n",
       "  'books': ['The Way of Kings', 'Words of Radiance', 'Oathbringer'],\n",
       "  'active': False},\n",
       " 'Kobo Abe': {'genre': 'absurdist fiction',\n",
       "  'books': ['The Woman in the Dunes', 'The Face of Another'],\n",
       "  'active': False},\n",
       " 'Victor Hugo': {'genre': ['literary fiction', 'poetry'],\n",
       "  'books': ['Les Miserables', 'Notre Dame'],\n",
       "  'active': False,\n",
       "  'language': 'French'}}"
      ]
     },
     "execution_count": 44,
     "metadata": {},
     "output_type": "execute_result"
    }
   ],
   "source": [
    "# G. Add a new author to our collection of your choice. Make sure they have:\n",
    "#    i. A genre property equal to a string or list of strings\n",
    "#    ii. A books property equal to a list of strings\n",
    "#    iii. An active property equal to a boolean\n",
    "#    iv. Another property that is also a dictionary with one or more properties\n",
    "\n",
    "authors['Victor Hugo'] = {\n",
    "        \"genre\": [\n",
    "            \"literary fiction\",\n",
    "            \"poetry\"\n",
    "        ],\n",
    "        \"books\": [\n",
    "            \"Les Miserables\",\n",
    "            \"Notre Dame\",\n",
    "        ],\n",
    "        \"active\": False,\n",
    "        \"language\" : \"French\",\n",
    "    }\n",
    "\n",
    "\n",
    "\n",
    "\n",
    "authors\n"
   ]
  },
  {
   "cell_type": "code",
   "execution_count": null,
   "metadata": {},
   "outputs": [],
   "source": []
  },
  {
   "cell_type": "code",
   "execution_count": null,
   "metadata": {},
   "outputs": [],
   "source": []
  }
 ],
 "metadata": {
  "kernelspec": {
   "display_name": "Python 3",
   "language": "python",
   "name": "python3"
  },
  "language_info": {
   "codemirror_mode": {
    "name": "ipython",
    "version": 3
   },
   "file_extension": ".py",
   "mimetype": "text/x-python",
   "name": "python",
   "nbconvert_exporter": "python",
   "pygments_lexer": "ipython3",
   "version": "3.6.10"
  }
 },
 "nbformat": 4,
 "nbformat_minor": 4
}
