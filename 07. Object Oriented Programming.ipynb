{
 "cells": [
  {
   "cell_type": "markdown",
   "metadata": {},
   "source": [
    "# Delphine de Sanglier"
   ]
  },
  {
   "cell_type": "markdown",
   "metadata": {
    "id": "eQeuzLFD87Px"
   },
   "source": [
    "#### First Class"
   ]
  },
  {
   "cell_type": "code",
   "execution_count": 198,
   "metadata": {
    "id": "3lqVaS8l87P2"
   },
   "outputs": [],
   "source": [
    "# A. Create a class for musical artists called Musician.\n",
    "# Musicians should have name and genre properties set by parameters in the init method.\n",
    "# Musicians should also have an albums_sold property that always starts at 0.\n",
    "# If the user doesn't provide a genre, the default value should be \"Pop\"\n",
    "\n",
    "class Musician:\n",
    "    def __init__(self, name, genre='Pop', album_sold=0):\n",
    "        self.name = name\n",
    "        self.genre = genre            \n",
    "        self.album_sold = album_sold"
   ]
  },
  {
   "cell_type": "code",
   "execution_count": 199,
   "metadata": {
    "id": "qqmyXBIS87P4"
   },
   "outputs": [],
   "source": [
    "# B. Instantiate, or create, three instances of the Musician class with different names and genres\n",
    "\n",
    "Beethoven = Musician('Beethoven', 'classical')\n",
    "acdc = Musician('acdc')\n",
    "myband = Musician('garageband', 'Awful Music')"
   ]
  },
  {
   "cell_type": "code",
   "execution_count": 200,
   "metadata": {},
   "outputs": [
    {
     "name": "stdout",
     "output_type": "stream",
     "text": [
      "0\n",
      "Pop\n",
      "Awful Music\n",
      "acdc\n"
     ]
    }
   ],
   "source": [
    "print(Beethoven.album_sold)\n",
    "print(acdc.genre)\n",
    "print(myband.genre)\n"
   ]
  },
  {
   "cell_type": "markdown",
   "metadata": {
    "id": "R1onxp4W87P5"
   },
   "source": [
    "#### House of Cards"
   ]
  },
  {
   "cell_type": "code",
   "execution_count": null,
   "metadata": {
    "id": "5SRApIZU87P7"
   },
   "outputs": [],
   "source": [
    "# A. Create a Card class with two properties:\n",
    "# Suit (Hearts, Clubs, Spades, or Diamonds)\n",
    "# Face (2 through 10, Jack, Queen, King, or Ace)\n",
    "\n",
    "class Card:\n",
    "    def __init__(self, suit, face):\n",
    "        self.suit = suit\n",
    "        self.face = face"
   ]
  },
  {
   "cell_type": "code",
   "execution_count": null,
   "metadata": {
    "id": "Gswoj3SJ87P7"
   },
   "outputs": [],
   "source": [
    "\n",
    "# B. Then, fill up the cards list with cards containing all 52 combinations of the above properties.\n",
    "# Hint: You will want to create lists of the possible suits and faces so you can loop through them\n",
    "\n",
    "suit = ('Hearts', 'Clubs', 'Spades', 'Diamonds')\n",
    "Face = ('ace', '1', '2', '3', '4', '5', '6', '7', '8', '9', '10', 'Jack', 'Queen', 'King')\n"
   ]
  },
  {
   "cell_type": "markdown",
   "metadata": {
    "id": "JvCa_s_P87P8"
   },
   "source": [
    "#### Getting the Band Together\n",
    "Create a Band class. A Band should have the following properties and methods:  \n",
    "name: String  \n",
    "members: a list of Strings, defaults to an empty list  \n",
    "introduce_lineup(): a method that prints all of the strings in members  \n",
    "add_member(new_member): a method that adds a new member to the members then invokes introduce_lineup  \n",
    "kick_out(old_member): a method that removes the given member from the members list. If the members list is empty, add a disbanded property equal to True. Otherwise, invoke introduce_lineup\n"
   ]
  },
  {
   "cell_type": "code",
   "execution_count": 192,
   "metadata": {
    "id": "UkeGttuY87P8"
   },
   "outputs": [],
   "source": [
    "class Band:\n",
    "    \"\"\"\n",
    "    Creates a class Band\n",
    "    \n",
    "    Properties :\n",
    "    Name : String\n",
    "    Members : list of strings\n",
    "    \n",
    "    Methods:\n",
    "    introduce_lineup() : no argument needed\n",
    "    add_member(new_member) : string\n",
    "    kick_out(old_member): string -- if we kickout the last member, the band is disbanded.\n",
    "    \n",
    "    \"\"\"\n",
    "    \n",
    "    def __init__(self, name, members):\n",
    "        self.name = name\n",
    "        self.members = members\n",
    "    \n",
    "    def introduce_lineup(self):\n",
    "        print('Please welcome on stage...')\n",
    "        for member in self.members:\n",
    "            print(member)\n",
    "    \n",
    "    def add_member(self, new_member):\n",
    "        self.members.append(new_member)\n",
    "        \n",
    "    def kick_out(self, old_member):\n",
    "        self.members.remove(old_member)\n",
    "        print(len(self.members))\n",
    "        \n",
    "        if len(self.members) == 0:\n",
    "            self.disbanded = True\n",
    "            print(f\"The {self.name} will stay alive in our sweet memories for ever\")\n",
    "        else:\n",
    "            self.introduce_lineup()"
   ]
  },
  {
   "cell_type": "code",
   "execution_count": 193,
   "metadata": {},
   "outputs": [
    {
     "name": "stdout",
     "output_type": "stream",
     "text": [
      "Please welcome on stage...\n",
      "Victoria\n",
      "Emma\n",
      "Mel C\n",
      "Geri\n",
      "Mel B\n",
      "4\n",
      "Please welcome on stage...\n",
      "Victoria\n",
      "Emma\n",
      "Mel C\n",
      "Mel B\n",
      "4\n",
      "Please welcome on stage...\n",
      "Victoria\n",
      "Emma\n",
      "Mel C\n",
      "Mel B\n",
      "3\n",
      "Please welcome on stage...\n",
      "Emma\n",
      "Mel C\n",
      "Mel B\n",
      "2\n",
      "Please welcome on stage...\n",
      "Mel C\n",
      "Mel B\n",
      "1\n",
      "Please welcome on stage...\n",
      "Mel B\n",
      "0\n",
      "The Spice Girls will stay alive in our sweet memories for ever\n"
     ]
    }
   ],
   "source": [
    "# Test\n",
    "spice_girls = Band('Spice Girls', ['Victoria', 'Emma', 'Mel C', 'Geri', 'Mel B'])\n",
    "spice_girls.introduce_lineup()\n",
    "spice_girls.kick_out('Geri')\n",
    "spice_girls.add_member('Geri')\n",
    "spice_girls.kick_out('Geri')\n",
    "spice_girls.kick_out('Victoria')\n",
    "spice_girls.kick_out('Emma')\n",
    "spice_girls.kick_out('Mel C')\n",
    "spice_girls.kick_out('Mel B')\n"
   ]
  },
  {
   "cell_type": "markdown",
   "metadata": {
    "id": "nbTN7HAI87P-"
   },
   "source": [
    "#### Bands part 2\n",
    "Create the following subclasses that extend the Band class functionality"
   ]
  },
  {
   "cell_type": "code",
   "execution_count": 205,
   "metadata": {
    "id": "1pKgyW6E87P-"
   },
   "outputs": [],
   "source": [
    "# A. Punk bands have a street_cred property set to True and earnings property set to 0\n",
    "# sell_out(amount): a method that changes street_cred to False and earnings increase by amount\n",
    "# destroy_hotel_room(): a method that changes street_cred to True and earnings decrease by 5000\n",
    "\n",
    "class PunkBand(Band):\n",
    "    \"\"\"\n",
    "    Subclass for Punk bands\n",
    "    \n",
    "    Properties:\n",
    "    street_cred : bool\n",
    "    earnings : int\n",
    "    \n",
    "    Methods:\n",
    "    sell_out(amount) : int\n",
    "    destroy_hotel_room() : no argument needed\n",
    "    \"\"\"\n",
    "    \n",
    "    def __init__(self, name, members):\n",
    "        super().__init__(name, members)\n",
    "        self.street_cred = True\n",
    "        self.earnings =0\n",
    "    \n",
    "    def sell_out(self, amount):\n",
    "        self.street_cred = False\n",
    "        self.earnings += amount\n",
    "    \n",
    "    def destroy_hotel_room(self):\n",
    "        self.street_cred = True\n",
    "        self.earnings -= 500\n",
    "        \n"
   ]
  },
  {
   "cell_type": "code",
   "execution_count": 207,
   "metadata": {},
   "outputs": [
    {
     "name": "stdout",
     "output_type": "stream",
     "text": [
      "Punk Band Name\n",
      "False\n",
      "900\n",
      "True\n",
      "400\n"
     ]
    }
   ],
   "source": [
    "# test\n",
    "punk = PunkBand('Punk Band Name', ['o', 'p'])\n",
    "print(punk.name)\n",
    "punk.sell_out(900)\n",
    "print(punk.street_cred)\n",
    "print(punk.earnings)\n",
    "punk.destroy_hotel_room()\n",
    "print(punk.street_cred)\n",
    "print(punk.earnings)"
   ]
  },
  {
   "cell_type": "code",
   "execution_count": 209,
   "metadata": {
    "id": "B8WI-WDl87P-"
   },
   "outputs": [],
   "source": [
    "# B. Jazz bands have a songbook property set to an empty list\n",
    "# add_song(song_title): a method that adds the given song_title to the songbook\n",
    "# solo(): a method that prints a message saying \"____ is cooking!\" \n",
    "# fill in the blank with the first string in the members list, then move that member to the end of the list\n",
    "\n",
    "class JazzBand(Band):\n",
    "    \"\"\"\n",
    "    Subclass for Jazz bands\n",
    "    \n",
    "    Properties:\n",
    "    songbook : empty list of strings\n",
    "    \n",
    "    Methods:\n",
    "    add_song(song_title) : string\n",
    "    solo() : no argument needed -- prints the first member of the list, then moves that member to the end of the list\n",
    "    \"\"\"\n",
    "    \n",
    "    \n",
    "    \n",
    "    def __init__(self, name, members):\n",
    "        super().__init__(name, members)\n",
    "        self.songbook = []\n",
    "    \n",
    "    def add_song(self, song_title):\n",
    "        self.songbook.append(song_title)\n",
    "        \n",
    "    def solo(self):\n",
    "        solo_player = self.members[0]\n",
    "        print(f\"{solo_player} is cooking!\")\n",
    "        self.members.remove(solo_player)\n",
    "        self.members.append(solo_player)"
   ]
  },
  {
   "cell_type": "code",
   "execution_count": 210,
   "metadata": {},
   "outputs": [
    {
     "name": "stdout",
     "output_type": "stream",
     "text": [
      "['j', 'k', 'z']\n",
      "[]\n",
      "j is cooking!\n",
      "['k', 'z', 'j']\n",
      "k is cooking!\n",
      "['z', 'j', 'k']\n",
      "['elevator']\n"
     ]
    }
   ],
   "source": [
    "# Test\n",
    "jazz = JazzBand('jazzy', ['j', 'k', 'z'])\n",
    "print(jazz.members)\n",
    "print(jazz.songbook)\n",
    "jazz.add_song('elevator')\n",
    "jazz.solo()\n",
    "print(jazz.members)\n",
    "jazz.solo()\n",
    "print(jazz.members)\n",
    "print(jazz.songbook)"
   ]
  },
  {
   "cell_type": "markdown",
   "metadata": {
    "id": "pDSAJeBV87P_"
   },
   "source": [
    "#### RPG Characters\n",
    "Use inheritance to set up a combat simulation for a Role-Playing Game. The Character class will set up default properties for every character in the game, while the more specific classes will create more interesting, playable characters."
   ]
  },
  {
   "cell_type": "code",
   "execution_count": 213,
   "metadata": {
    "id": "P5KVFF2Z87QA"
   },
   "outputs": [],
   "source": [
    "# A. Create a Character class with the following properties and methods:\n",
    "# health: default 100, damage: default 10, items: default empty list\n",
    "# attack(target): lowers the target's health property by the character's damage property\n",
    "# display_stats(): prints a message including the characters health, damage, and items\n",
    "\n",
    "class Character:\n",
    "    \"\"\"\n",
    "    Character class for RPG game\n",
    "    \n",
    "    Properties:\n",
    "    health : int, default = 100\n",
    "    damage : int, default = 10\n",
    "    items : list of strings, default is empty\n",
    "    \n",
    "    Methods:\n",
    "    attack(target) : string displaying the target.\n",
    "    displays_stats() : no argument needed\n",
    "    \"\"\"\n",
    "    \n",
    "    def __init__(self, health=100, damage=10, items=[]):\n",
    "        self.health = health\n",
    "        self.damage = damage\n",
    "        self.items = items\n",
    "    \n",
    "    def attack(self, target):\n",
    "        self.target = target\n",
    "        target.health -= self.damage\n",
    "        \n",
    "    def display_stats(self):\n",
    "        print(f\"Health: {self.health}, Damage : {self.damage}, items: {self.items}\")"
   ]
  },
  {
   "cell_type": "code",
   "execution_count": 217,
   "metadata": {
    "id": "CNFyn2fR87QA"
   },
   "outputs": [],
   "source": [
    "# B. The Fighter class should inherit from the character class with the following additions:\n",
    "# health is always 200, damage is always 15, items includes \"magic sword\"\n",
    "# a new property named berserker that defaults to 2\n",
    "# beast_mode(target): use the attack() method on the target X times, where X is the berserker amount. \n",
    "# The Fighter loses 5 health for each attack.\n",
    "\n",
    "class Fighter(Character):\n",
    "    \n",
    "    \"\"\"\n",
    "    \n",
    "    fighter subclass of Character for RPG game\n",
    "    \n",
    "    Properties:\n",
    "    health : int, default = 200\n",
    "    damage : int, default = 15\n",
    "    items : list of strings, default contains magic sword\n",
    "    berserker : int, default = 2\n",
    "    \n",
    "    Methods:\n",
    "    beast_mode(target) : string displaying the target.\n",
    "    \n",
    "    \"\"\"\n",
    "    \n",
    "    def __init__(self, health=200, damage=15, items=['magic sword']):\n",
    "        super().__init__()\n",
    "        self.health = health\n",
    "        self.damage = damage\n",
    "        self.items = items\n",
    "        self.berserker = 2\n",
    "    \n",
    "    def beast_mode(self, target):\n",
    "        self.target = target\n",
    "        \n",
    "        while self.berserker > 0:\n",
    "            target.health -= self.damage\n",
    "            self.health -= 5\n",
    "            self.berserker -= 1"
   ]
  },
  {
   "cell_type": "code",
   "execution_count": 220,
   "metadata": {
    "id": "2DJf7Uw887QB"
   },
   "outputs": [],
   "source": [
    "# C. The Wizard class should inherit from the character class with the following additions:\n",
    "# health is 75, damage is 30, items includes \"health_potion\" and \"strength_potion\"\n",
    "# heal(target): if the items list contains \"health_potion\", remove one and increase target's health by 25\n",
    "# buff(target): if the items list contains \"strength_potion\", remove one and increase target's damage by 10\n",
    "\n",
    "class Wizard(Character):\n",
    "    \n",
    "    \"\"\"\n",
    "    \n",
    "    wizard subclass of Character for RPG game\n",
    "    \n",
    "    Properties:\n",
    "    health : int, default = 75\n",
    "    damage : int, default = 30\n",
    "    items : list of strings, default contains health_potion and strength_potion\n",
    "  \n",
    "    \n",
    "    Methods:\n",
    "    heal(target) : string displaying the target\n",
    "    buff(target) : string displaying the target\n",
    "    \"\"\"\n",
    "    \n",
    "    def __init__(self, health=75, damage=30, items=['health_potion', \"strength_potion\"]):\n",
    "        super().__init__()\n",
    "        self.health = health\n",
    "        self.damage = damage\n",
    "        self.items = items\n",
    "        \n",
    "    def heal(self, target):\n",
    "        if 'health_potion' in self.items:\n",
    "            target.health += 25\n",
    "            self.items.remove('health_potion')\n",
    "    \n",
    "    def buff(self, target):\n",
    "        if 'strength_potion' in self.items:\n",
    "            target.damage += 10\n",
    "            self.items.remove('strength_potion')"
   ]
  },
  {
   "cell_type": "code",
   "execution_count": 221,
   "metadata": {
    "id": "hNOp2C8B87QC"
   },
   "outputs": [
    {
     "name": "stdout",
     "output_type": "stream",
     "text": [
      "After 1 rounds of combat:\n",
      "The orc\n",
      "Health: 70, Damage : 5, items: []\n",
      "alfhildr\n",
      "Health: 185, Damage : 25, items: ['magic sword']\n",
      "gandalf\n",
      "Health: 75, Damage : 30, items: ['health_potion']\n",
      "After 2 rounds of combat:\n",
      "The orc\n",
      "Health: 70, Damage : 5, items: []\n",
      "alfhildr\n",
      "Health: 205, Damage : 25, items: ['magic sword']\n",
      "gandalf\n",
      "Health: 75, Damage : 30, items: []\n",
      "After 3 rounds of combat:\n",
      "The orc\n",
      "Health: 40, Damage : 5, items: []\n",
      "alfhildr\n",
      "Health: 200, Damage : 25, items: ['magic sword']\n",
      "gandalf\n",
      "Health: 75, Damage : 30, items: []\n",
      "After 4 rounds of combat:\n",
      "The orc\n",
      "Health: 10, Damage : 5, items: []\n",
      "alfhildr\n",
      "Health: 195, Damage : 25, items: ['magic sword']\n",
      "gandalf\n",
      "Health: 75, Damage : 30, items: []\n",
      "After 5 rounds of combat:\n",
      "The orc\n",
      "Health: -20, Damage : 5, items: []\n",
      "alfhildr\n",
      "Health: 190, Damage : 25, items: ['magic sword']\n",
      "gandalf\n",
      "Health: 75, Damage : 30, items: []\n"
     ]
    }
   ],
   "source": [
    "# Test the classes using this combat simulation below. It should run without errors.\n",
    "alfhildr = Fighter()\n",
    "gandalf = Wizard()\n",
    "orc = Character(100, 5)\n",
    "rounds_of_combat = 1\n",
    "\n",
    "while(orc.health > 0 and alfhildr.health > 0):\n",
    "    orc.attack(alfhildr)\n",
    "    alfhildr.beast_mode(orc)\n",
    "    if \"strength_potion\" in gandalf.items:\n",
    "        gandalf.buff(alfhildr)\n",
    "    elif \"health_potion\" in gandalf.items:\n",
    "        gandalf.heal(alfhildr)\n",
    "    else:\n",
    "        gandalf.attack(orc)\n",
    "    print(f\"After {rounds_of_combat} rounds of combat:\")\n",
    "    print(f\"The orc\")\n",
    "    orc.display_stats()\n",
    "    print(f\"alfhildr\")\n",
    "    alfhildr.display_stats()\n",
    "    print(f\"gandalf\")\n",
    "    gandalf.display_stats()\n",
    "    rounds_of_combat += 1"
   ]
  },
  {
   "cell_type": "code",
   "execution_count": null,
   "metadata": {
    "id": "ScYrptn287QC"
   },
   "outputs": [],
   "source": [
    "# The output should look like the following log:\n",
    "# After 1 rounds of combat:\n",
    "# The orc\n",
    "# Health: 70 Damage: 5 Items: []\n",
    "# alfhildr\n",
    "# Health: 185 Damage: 25 Items: ['magic sword']\n",
    "# gandalf\n",
    "# Health: 75 Damage: 30 Items: ['health_potion']\n",
    "# After 2 rounds of combat:\n",
    "# The orc\n",
    "# Health: 20 Damage: 5 Items: []\n",
    "# alfhildr\n",
    "# Health: 195 Damage: 25 Items: ['magic sword']\n",
    "# gandalf\n",
    "# Health: 75 Damage: 30 Items: []\n",
    "# After 3 rounds of combat:\n",
    "# The orc\n",
    "# Health: -60 Damage: 5 Items: []\n",
    "# alfhildr\n",
    "# Health: 180 Damage: 25 Items: ['magic sword']\n",
    "# gandalf\n",
    "# Health: 75 Damage: 30 Items: []"
   ]
  }
 ],
 "metadata": {
  "colab": {
   "collapsed_sections": [],
   "name": "07. Object Oriented Programming.ipynb",
   "provenance": []
  },
  "kernelspec": {
   "display_name": "Python 3",
   "language": "python",
   "name": "python3"
  },
  "language_info": {
   "codemirror_mode": {
    "name": "ipython",
    "version": 3
   },
   "file_extension": ".py",
   "mimetype": "text/x-python",
   "name": "python",
   "nbconvert_exporter": "python",
   "pygments_lexer": "ipython3",
   "version": "3.6.10"
  }
 },
 "nbformat": 4,
 "nbformat_minor": 1
}
