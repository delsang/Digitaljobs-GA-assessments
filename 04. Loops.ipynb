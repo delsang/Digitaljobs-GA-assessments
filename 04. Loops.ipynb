{
 "cells": [
  {
   "cell_type": "markdown",
   "metadata": {},
   "source": [
    "# Delphine de Sanglier"
   ]
  },
  {
   "cell_type": "code",
   "execution_count": null,
   "metadata": {},
   "outputs": [],
   "source": [
    "# 4.1 While Loops\n",
    "# Use while loops to solve the following challenges"
   ]
  },
  {
   "cell_type": "code",
   "execution_count": null,
   "metadata": {},
   "outputs": [],
   "source": [
    "# A. Count down from 100 to 0 with a loop, including a print statement\n",
    "n = 100\n",
    "    \n",
    "while n >= 0:\n",
    "    print(n)\n",
    "    n -= 1\n",
    "    "
   ]
  },
  {
   "cell_type": "code",
   "execution_count": null,
   "metadata": {},
   "outputs": [],
   "source": [
    "# B. Construct a string consisting of 20 \"a\" characters in a row\n",
    "astring = \"\"\n",
    "n = 20\n",
    "\n",
    "while n > 0:\n",
    "    astring = astring + 'a'\n",
    "    n -= 1\n",
    "\n",
    "astring"
   ]
  },
  {
   "cell_type": "code",
   "execution_count": null,
   "metadata": {},
   "outputs": [],
   "source": [
    "# C. Bring down the price variable by increments of 10 until it is lower than the acceptable_price\n",
    "price = 1000\n",
    "acceptable_price = 954\n",
    "\n",
    "while price > acceptable_price:\n",
    "    price -= 10\n",
    "\n",
    "price"
   ]
  },
  {
   "cell_type": "code",
   "execution_count": null,
   "metadata": {},
   "outputs": [],
   "source": [
    "# D. Spring cleaning: remove all instances of \"mess\" from the garage_contents list\n",
    "#    Hint: Use the in operator to check if \"mess\" is still in the list, and .remove() to get rid of it\n",
    "garage = [\"bike\", \"mess\", \"generator\", \"mess\", \"mess\", \"tools\", \"car\", \"mess\"]\n",
    "\n",
    "#garage = [item for item in garage if item != \"mess\"]\n",
    "\n",
    "while \"mess\" in garage:\n",
    "    garage.remove(\"mess\")\n",
    "\n",
    "garage"
   ]
  },
  {
   "cell_type": "code",
   "execution_count": null,
   "metadata": {},
   "outputs": [],
   "source": [
    "# 4.2 For Loops\n",
    "# Use for loops to solve the following challenges"
   ]
  },
  {
   "cell_type": "code",
   "execution_count": null,
   "metadata": {},
   "outputs": [],
   "source": [
    "# A. Print through each number in the numbers list\n",
    "numbers = [2,3,5,8]\n",
    "\n",
    "for i in range(0,len(numbers)):\n",
    "    print(numbers[i])"
   ]
  },
  {
   "cell_type": "code",
   "execution_count": null,
   "metadata": {},
   "outputs": [],
   "source": [
    "# B. Add each of the numbers to the sum_total variable.\n",
    "sum_total = 0\n",
    "\n",
    "for number in numbers:\n",
    "    sum_total += number\n",
    "\n",
    "sum_total"
   ]
  },
  {
   "cell_type": "code",
   "execution_count": null,
   "metadata": {},
   "outputs": [],
   "source": [
    "# C. Print the message \"even\" for each number that divides evenly by 2\n",
    "#    Hint: The modulus symbol, %, gives you the remainder when dividing two numbers\n",
    "\n",
    "for i in range(0, len(numbers)):\n",
    "    if numbers[i]%2 == 0:\n",
    "        print(numbers[i], \" is even.\")\n",
    "    "
   ]
  },
  {
   "cell_type": "code",
   "execution_count": null,
   "metadata": {},
   "outputs": [],
   "source": [
    "# D. Count how many even numbers there are by adding 1 to count for each even number\n",
    "even_count = 0\n",
    "\n",
    "for i in range(0, len(numbers)):\n",
    "    if numbers[i]%2 == 0:\n",
    "        even_count += 1\n",
    "\n",
    "even_count"
   ]
  },
  {
   "cell_type": "code",
   "execution_count": null,
   "metadata": {},
   "outputs": [],
   "source": [
    "# 4.3 List Comprehension\n",
    "# Use list comprehension to generate new lists for these challenges"
   ]
  },
  {
   "cell_type": "code",
   "execution_count": null,
   "metadata": {},
   "outputs": [],
   "source": [
    "# A. Add \"simon says \" to all strings in this list\n",
    "commands = [\"jump\", \"duck\", \"touch your toes\"]\n",
    "\n",
    "[print(\"simon says\", command) for command in commands]"
   ]
  },
  {
   "cell_type": "code",
   "execution_count": null,
   "metadata": {},
   "outputs": [],
   "source": [
    "# B. Add 15% to each number above 100, and don't include other numbers\n",
    "prices = [75, 500, 125, 20, 43]\n",
    "\n",
    "\n",
    "prices = [price*1.15 for price in prices]\n",
    "prices"
   ]
  },
  {
   "cell_type": "code",
   "execution_count": null,
   "metadata": {},
   "outputs": [],
   "source": [
    "# 4.4 Hold on to Your Loops\n",
    "# Use any variety of loop for the following challenges"
   ]
  },
  {
   "cell_type": "code",
   "execution_count": null,
   "metadata": {},
   "outputs": [],
   "source": [
    "# A. As a superfan, you want to chant each of the player's names in the following format:\n",
    "#    1. Spell out their name with a separate print statement for each letter, followed by an exclamation point\n",
    "#    2. Then, print the message \"Goooo _______!\" by inserting the full name in the blank\n",
    "players = [\"Anoushka\", \"Becky\", \"Mehreen\"]\n",
    "\n",
    "for player in players:   \n",
    "    \n",
    "    # The * operator to print all letters on the same line. \n",
    "    # Ending with ! also allows for the two statements to be printed on the same line\n",
    "    print(*player.upper(), end=\"! \" )\n",
    "    print(f\"Gooooooooo {player}!\")"
   ]
  },
  {
   "cell_type": "code",
   "execution_count": null,
   "metadata": {},
   "outputs": [],
   "source": [
    "# B. Customers want to know the flavors of each coffee. Use separate print statements in the following format:\n",
    "#    First, print \"_______ has the following flavors\" using the coffee name in the blank\n",
    "#    Then, print each flavor inside the coffee's flavor list\n",
    "coffee_blends = [\n",
    "    {\"name\": \"Don Manuel\", \"flavors\": [\"cocoa\", \"lime\", \"cinnamon\"]},\n",
    "    {\"name\": \"Gitwe Washed\", \"flavors\": [\"grapefruit\", \"hibiscus\", \"honey\"]}\n",
    "]\n",
    "\n",
    "for coffee in coffee_blends:\n",
    "    \n",
    "    # Adding the end=\" \" on the first print statement so both statements are printed on the same line \n",
    "    print(coffee[\"name\"], \"has the following flavors:\", end=\" \")\n",
    "    print(*coffee[\"flavors\"], sep=\", \")\n",
    "\n",
    "    \n"
   ]
  },
  {
   "cell_type": "code",
   "execution_count": 1,
   "metadata": {
    "scrolled": true
   },
   "outputs": [
    {
     "name": "stdout",
     "output_type": "stream",
     "text": [
      "We are spending $ 435\n",
      "We are purchasing: mountain bike, tambourine, worlds best programmer mug\n"
     ]
    }
   ],
   "source": [
    "# C. Shop till you've dropped 1000 dollars! Add each item to the purchases list until the total price exceeds 1000\n",
    "store = [\n",
    "    {\"item\": \"mountain bike\", \"price\": 375},\n",
    "    {\"item\": \"tambourine\", \"price\": 50},\n",
    "    {\"item\": \"massage chair\", \"price\": 700},\n",
    "    {\"item\": \"worlds best programmer mug\", \"price\": 10},\n",
    "    {\"item\": \"new computer\", \"price\": 1500}\n",
    "]\n",
    "\n",
    "purchases = []\n",
    "total_price = 0\n",
    "\n",
    "# We could have done a while loop, but that would have restricted our purchases to mountain bike and tambourine \n",
    "# as there was also enough buget for the mug.\n",
    "\n",
    "\n",
    "for item in store:\n",
    "    \n",
    "    # Add each price from the list to the total_pprice\n",
    "    total_price += item[\"price\"]\n",
    "    \n",
    "    # Add each items to the purchases list\n",
    "    purchases.append(item[\"item\"])\n",
    "    \n",
    "    # If the total_price is above $1000, remove the cost and item so we can try the next lines to see how we can purchase other items\n",
    "    if total_price > 1000:\n",
    "        total_price -= item[\"price\"]\n",
    "        purchases.remove(item[\"item\"])\n",
    "\n",
    "print(\"We are spending $\", total_price)\n",
    "print(\"We are purchasing: \", end=\"\")\n",
    "print(*purchases, sep=\", \")\n",
    "\n"
   ]
  },
  {
   "cell_type": "markdown",
   "metadata": {},
   "source": [
    "## Bonus homework\n",
    "\n",
    "While the previous option is better than using a while loop, the script doesn't offer the optimum option if we wanted to spend as close to $1000 as possible. \n",
    "Let's make it happen"
   ]
  },
  {
   "cell_type": "code",
   "execution_count": 59,
   "metadata": {},
   "outputs": [
    {
     "name": "stdout",
     "output_type": "stream",
     "text": [
      "The closest spend to the budget would be $ 760\n",
      "We are purchasing: tambourine, massage chair, worlds best programmer mug\n"
     ]
    }
   ],
   "source": [
    "# find the closest combination of products to $1000\n",
    "\n",
    "from itertools import permutations\n",
    "\n",
    "prices = []\n",
    "budget = 1000\n",
    "\n",
    "# Create a list of all prices available in the store\n",
    "for item in store:\n",
    "    prices.append(item['price'])\n",
    "\n",
    "# Create a list of all permutations available\n",
    "permlist = list(permutations(prices))\n",
    "\n",
    "# Create an empty list where we will append the spending options, as long as it fits our bugdet\n",
    "# Create an empty list where we will append indexes for the permutations\n",
    "spending_options = []\n",
    "indexes = []\n",
    "\n",
    "# iterate through the permutations\n",
    "for i in range(0, len(permlist)):\n",
    "   \n",
    "    price_list = permlist[i]\n",
    "    final_cost = 0\n",
    "    \n",
    "    for price in price_list:\n",
    "        # add up the prices on the list as long as the final cost is under the budget\n",
    "        if (final_cost + price) < budget:\n",
    "            final_cost += price\n",
    "        else:\n",
    "            break\n",
    "    \n",
    "    indexes.append(i)   \n",
    "    spending_options.append(final_cost)\n",
    "\n",
    "# maximum we can spend\n",
    "max_spend = max(spending_options)\n",
    "\n",
    "# Create a dictionnary \n",
    "dictionnary = dict(zip(indexes, spending_options))\n",
    "\n",
    "# find the index for the highest spend value \n",
    "    # it will find the first index only, which is fine in that example\n",
    "    # But if multiple objects had the same value, it would be better to have all options available rather than just one\n",
    "max_list = max(dic, key=dic.get)\n",
    "\n",
    "# find the permuted list corresponding to that index\n",
    "best_buy_option = permlist[max_list]\n",
    "\n",
    "\n",
    "total_spend = 0\n",
    "final_products_tobuy = []\n",
    "\n",
    "# match the items and find the combination (based on previous solution ==> could create a function for that)\n",
    "for cost in best_buy_option:\n",
    "    \n",
    "    for item in store:\n",
    "    \n",
    "        if cost == item[\"price\"] :\n",
    "            total_spend += item[\"price\"]\n",
    "            final_products_tobuy.append(item[\"item\"])\n",
    "   \n",
    "            if total_spend > max_spend:\n",
    "                total_spend -= item[\"price\"]\n",
    "                final_products_tobuy.remove(item[\"item\"])\n",
    "\n",
    "    \n",
    "print(\"The closest spend to the budget would be $\", total_spend)\n",
    "print(\"We are purchasing: \", end=\"\")\n",
    "print(*final_products_tobuy, sep=\", \")    \n",
    "    "
   ]
  },
  {
   "cell_type": "code",
   "execution_count": null,
   "metadata": {},
   "outputs": [],
   "source": []
  }
 ],
 "metadata": {
  "kernelspec": {
   "display_name": "Python 3",
   "language": "python",
   "name": "python3"
  },
  "language_info": {
   "codemirror_mode": {
    "name": "ipython",
    "version": 3
   },
   "file_extension": ".py",
   "mimetype": "text/x-python",
   "name": "python",
   "nbconvert_exporter": "python",
   "pygments_lexer": "ipython3",
   "version": "3.6.10"
  }
 },
 "nbformat": 4,
 "nbformat_minor": 4
}
