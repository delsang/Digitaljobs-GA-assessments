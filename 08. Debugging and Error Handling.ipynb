{
 "cells": [
  {
   "cell_type": "markdown",
   "metadata": {},
   "source": [
    "# Delphine de Sanglier\n"
   ]
  },
  {
   "cell_type": "markdown",
   "metadata": {
    "id": "TmiE-hVG0x4i"
   },
   "source": [
    "#### Error Scavenger Hunt\n",
    "For each code sample below, add a comment describing, in your own words, what the error type was, what it means, and how to fix it."
   ]
  },
  {
   "cell_type": "code",
   "execution_count": null,
   "metadata": {
    "id": "FCtQwdeB0x4n",
    "outputId": "1315fe0c-7a19-4b7d-e01f-bdf5cc9e34aa"
   },
   "outputs": [],
   "source": [
    "# Typo with errors['key_error'] --> should write errors[\"Key Error\"]\n",
    "\n",
    "errors = {\n",
    "    \"Key Error\" : \"big mistake\"\n",
    "}\n",
    "print(f\"Try to avoid committing a {errors['key_error']}\")"
   ]
  },
  {
   "cell_type": "code",
   "execution_count": null,
   "metadata": {
    "id": "YIp9A_2Q0x4q"
   },
   "outputs": [],
   "source": [
    "# a dictionnary doesn't have a \"attribute-error\" attribute.\n",
    "# first, check dic(error) to see the type of attributes we can use (it might just be a little typo, or the wrong term used)\n",
    "# if there is nothing equivalent, find an other way to solve the problem\n",
    "\n",
    "print(f\"Similarly, it's easy to make an {errors.attribute_error}\")"
   ]
  },
  {
   "cell_type": "code",
   "execution_count": null,
   "metadata": {
    "id": "AYtJEDJX0x4r"
   },
   "outputs": [],
   "source": [
    "# That module doesn't exist, we should check for typo or install it if it is available, or find an other option\n",
    "import CodeWithoutErrors"
   ]
  },
  {
   "cell_type": "code",
   "execution_count": null,
   "metadata": {
    "id": "yywGj6590x4s",
    "scrolled": true
   },
   "outputs": [],
   "source": [
    "race_runners = [\"Yuna\", \"Bill\", \"Hyun\"]\n",
    "\n",
    "# the indexes should start at 0 and finish at 2. There are no race runners on index 3\n",
    "first_place = race_runners[1]\n",
    "second_place = race_runners[2]\n",
    "third_place = race_runners[3]\n",
    "\n",
    "print(\"The winners are:\", first_place, second_place, third_place) "
   ]
  },
  {
   "cell_type": "code",
   "execution_count": null,
   "metadata": {
    "id": "XRpd0UWG0x4t",
    "scrolled": true
   },
   "outputs": [],
   "source": [
    "code_is_perfect = False\n",
    "if code_is_perfect:\n",
    "    \n",
    "# This line should be indented as it is within the if statement\n",
    "print(\"I am invincible!\")"
   ]
  },
  {
   "cell_type": "code",
   "execution_count": null,
   "metadata": {
    "id": "boCObi3B0x4t",
    "scrolled": true
   },
   "outputs": [],
   "source": [
    "# The variable doesn't exist, we need to define it first\n",
    "print(nameless_variable)"
   ]
  },
  {
   "cell_type": "code",
   "execution_count": null,
   "metadata": {
    "id": "TcswMLhe0x4u",
    "scrolled": true
   },
   "outputs": [],
   "source": [
    "knowledge_of_python = 40\n",
    "\n",
    "\n",
    "if knowledge_of_python > 50 #The \":\" is missing at the end of the line \n",
    "    print(\"you will never make a mistake again\")"
   ]
  },
  {
   "cell_type": "code",
   "execution_count": null,
   "metadata": {
    "id": "quBjtB4n0x4u",
    "scrolled": true
   },
   "outputs": [],
   "source": [
    "# Can't add int and str, need to change 99 into a string\n",
    "print(99 + \"Red Balloons\")"
   ]
  },
  {
   "cell_type": "code",
   "execution_count": null,
   "metadata": {
    "id": "x5wKn8sy0x4v"
   },
   "outputs": [],
   "source": [
    "# \"five\" can't be transformed into a integer 5\n",
    "# int(\"5\") or 5 works\n",
    "\n",
    "5 + int(\"five\")"
   ]
  },
  {
   "cell_type": "markdown",
   "metadata": {
    "id": "5_cbqWXg0x4v"
   },
   "source": [
    "#### Exceptional Error Handling\n",
    "We want to add some restrictions to the user_creation function below:\n",
    "\n",
    "username must be unique. If a user in all_users has the same username, raise an exception.\n",
    "\n",
    "email must match a standard email regex pattern. Hint: this is a classic google situation!\n",
    "\n",
    "password must be at least 8 characters and contain a number. Hint: \"test if a string contains a number python\""
   ]
  },
  {
   "cell_type": "code",
   "execution_count": 1,
   "metadata": {
    "id": "5mQQTbWC0x4w"
   },
   "outputs": [],
   "source": [
    "# A.\n",
    "# Add exception raising to the user creation method to ensure users with invalid properties throw errors\n",
    "# We will store users as dictionaries in a list titled all_users\n",
    "# For each property, raise an exception with a specific error message so we can test the message later\n",
    "# Only fully valid users should make it to the all_users list\n",
    "all_users = []\n",
    "\n",
    "def user_creation(username, email, password):\n",
    "    \n",
    "    \"\"\"\n",
    "    Will create a record of the new user with username, email and password.\n",
    "    Will raise error for some conditions\n",
    "    \"\"\"\n",
    "    \n",
    "    record = dict()\n",
    "\n",
    "    \n",
    "    # We want that field to be mandatory. If the len=0, that means there is no entry\n",
    "    if len(username)<1:\n",
    "        raise ValueError(\"This field is mandatory, enter an username\")\n",
    "    # Usernames have to be unique\n",
    "    for key in all_users:\n",
    "        if username in key['username']:   \n",
    "            raise ValueError(\"Your username is taken... Choose another one!\")\n",
    "    \n",
    "    record['username'] = username\n",
    "    \n",
    "    \n",
    "    # After research, it seems that the shortest email would be 3 character long and longest 320. (shorturl.at/cghES)\n",
    "    if len(email)<3 or len(email)>321:\n",
    "        raise ValueError(\"This email is too short, enter a valid email\")\n",
    "    # We want at least an \"@\" character\n",
    "    if \"@\" not in email:\n",
    "        raise ValueError(\"please enter a valid email in the format name@domain\")\n",
    "    \n",
    "    record['email'] = email\n",
    "    \n",
    "    \n",
    "    # The password needs to be minimum 7 character long, not be password, and contain at least one digit\n",
    "    if len(password)<7:\n",
    "        raise ValueError(\"Your password needs to contain at least 6 characters\")\n",
    "    # Don't use \"password\" as a password! \n",
    "    if 'password' in password:\n",
    "        raise ValueError(\"You can't have password in your passsword\")\n",
    "    # Check that the password has at least one digit\n",
    "    if any(map(str.isdigit, password)) == False:\n",
    "         raise ValueError(\"You need at least one number in your password\")\n",
    "    \n",
    "    record['password'] = password\n",
    "\n",
    "    \n",
    "    all_users.append(record)\n",
    "    \n",
    "    print(f\"\\nSUCCESSFULLY CREATED THE USER {username} WITH EMAIL {email} AND PASSWORD {password} \\n\")  \n",
    "\n"
   ]
  },
  {
   "cell_type": "code",
   "execution_count": null,
   "metadata": {},
   "outputs": [],
   "source": [
    "user_creation('del', 'del@del.com.au', 'myp3asseword')"
   ]
  },
  {
   "cell_type": "code",
   "execution_count": null,
   "metadata": {
    "id": "SmFH9WOj0x4x"
   },
   "outputs": [],
   "source": [
    "# what about if there is an error, and we want user input to clean the record up?\n",
    "\n",
    "\n",
    "# B.\n",
    "# Add try/except handling to this function\n",
    "# If an error is raised, check the error message to determine what value is invalid\n",
    "# Use the input function to get a new input for the invalid value\n",
    "# Once you have a new value from the user, invoke create_new_user again with updated input value\n",
    "\n",
    "def create_new_user(username, email, password):\n",
    "    \n",
    "    try:\n",
    "        new_user = user_creation(username, email, password)\n",
    "\n",
    "    # I have been struggling finding a way to print the statements as defined in new_user() to pin point what the problem is..\n",
    "    # In this answer, we are just asking to re-enter the informations, but doesn't say what the problem is...\n",
    "    # so the end user will end up very frustrated! :) \n",
    "    # Should I set up different error messages for each error types (and how to do it?), or is there a better / more efficient way? \n",
    "    # Looking forward to see the suggested answer\n",
    "    \n",
    "    \n",
    "    except ValueError:\n",
    "        print(f\"\\nSomething was wrong with the username: {username}, email: {email}, password: {password} re-enter your information here: \")\n",
    "        username = input(\"\\nEnter your username: \")\n",
    "        email = input(\"Enter your email: \")\n",
    "        password = input(\"Enter your password: \")\n",
    "\n",
    "        new_user = user_creation(username, email, password)\n",
    "\n",
    "    return new_user"
   ]
  },
  {
   "cell_type": "code",
   "execution_count": 6,
   "metadata": {},
   "outputs": [
    {
     "name": "stdout",
     "output_type": "stream",
     "text": [
      "You can't have password in your passsword\n",
      "enter a valid password: panfioewa2121\n",
      "\n",
      "SUCCESSFULLY CREATED THE USER username WITH EMAIL del@del.com AND PASSWORD panfioewa2121 \n",
      "\n"
     ]
    }
   ],
   "source": [
    "def create_new_user(username, email, password):\n",
    "    \n",
    "    new_user = None\n",
    "    \n",
    "    # Start with an empty error message, in case all is well from the start!\n",
    "    error_message = \"\"\n",
    "\n",
    "    # Try creating the new user\n",
    "    try: \n",
    "        new_user = user_creation('username', 'email@email.com', 'password')\n",
    "    # when there is an error, store it as a string so we can compare and ask for a new user input\n",
    "    # (because the error is an object)\n",
    "    except ValueError as error:\n",
    "        error_message = str(error)\n",
    "\n",
    "\n",
    "    # While loop starts with the first error message and goes through the process\n",
    "    while error_message:\n",
    "        if error_message == \"This field is mandatory, enter an username\":\n",
    "            username = input('please enter a username: ')\n",
    "        elif error_message == \"please enter a valid email in the format name@domain\":\n",
    "            email = input(\"enter a valid email address: \")\n",
    "        elif error_message == \"You can't have password in your passsword\":\n",
    "            password = input(\"enter a valid password: \")\n",
    "        else: \n",
    "            # in case there is an error that wasn't planned before\n",
    "            print('New error! Check it out: ', error_message)\n",
    "            break\n",
    "\n",
    "        # Once the first error has been handled, try creating an account again, \n",
    "        # if there is an orther error that is raised, go through the process again asking for a new input\n",
    "        # the loop will finish when there are no error raised anymore\n",
    "        try:\n",
    "            new_user = user_creation('username', email, password)\n",
    "            error_message = \"\"\n",
    "        except ValueError as error:\n",
    "            error_message = str(error)\n",
    "\n",
    "    return new_user"
   ]
  },
  {
   "cell_type": "code",
   "execution_count": null,
   "metadata": {},
   "outputs": [],
   "source": [
    "dir(ValueError)"
   ]
  },
  {
   "cell_type": "code",
   "execution_count": null,
   "metadata": {},
   "outputs": [],
   "source": [
    "create_new_user('dell', 'del@delel.com.au', 'mypaeessssword')"
   ]
  },
  {
   "cell_type": "code",
   "execution_count": null,
   "metadata": {
    "id": "YsiK80hG0x4x"
   },
   "outputs": [],
   "source": [
    "# C.    \n",
    "\n",
    "users_awaiting_creation = [\n",
    "    {\"username\":\"El_Barto\", \"email\":\"el_barto@gmail.com\", \"password\":\"a1b2c3d4\"}, #should be valid\n",
    "    {\"username\":\"El_Barto\", \"email\":\"barto_the_second@gmail.com\", \"password\":\"a1b2c3d4\"}, #should be invalid due to username\n",
    "    {\"username\":\"pythonista\", \"email\":\"programmer_supreme@hotmail.com\", \"password\":\"2short\"}, #should have invalid password length\n",
    "    {\"username\":\"verbose_user\", \"email\":\"iliketypingalot@aol.com\", \"password\":\"longenoughbutnodigits\"}, #should be invalid password due to no digits\n",
    "    {\"username\":\"off_tha_grid\", \"email\":\"none_provided\", \"password\":\"iburygold3\"},\n",
    "]\n",
    "\n",
    "# This loop should raise a good deal of errors due to bad user data\n",
    "\n",
    "# If you've added proper input prompts and error handling, you should be able to type in valid alternatives\n",
    "\n",
    "# By the end, you should see successful creation messages for the 5 users\n",
    "\n",
    "for user in users_awaiting_creation:\n",
    "    new_user = create_new_user(user[\"username\"], user[\"email\"], user[\"password\"])"
   ]
  }
 ],
 "metadata": {
  "colab": {
   "collapsed_sections": [],
   "name": "08. Debugging and Error Handling.ipynb",
   "provenance": []
  },
  "kernelspec": {
   "display_name": "Python 3",
   "language": "python",
   "name": "python3"
  },
  "language_info": {
   "codemirror_mode": {
    "name": "ipython",
    "version": 3
   },
   "file_extension": ".py",
   "mimetype": "text/x-python",
   "name": "python",
   "nbconvert_exporter": "python",
   "pygments_lexer": "ipython3",
   "version": "3.6.10"
  }
 },
 "nbformat": 4,
 "nbformat_minor": 1
}
