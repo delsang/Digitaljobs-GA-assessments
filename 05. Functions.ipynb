{
 "cells": [
  {
   "cell_type": "markdown",
   "metadata": {},
   "source": [
    "# Delphine de Sanglier"
   ]
  },
  {
   "cell_type": "code",
   "execution_count": null,
   "metadata": {
    "id": "Dt-uoQoSEhwC"
   },
   "outputs": [],
   "source": [
    "# 5.1 Functions"
   ]
  },
  {
   "cell_type": "code",
   "execution_count": 4,
   "metadata": {
    "id": "uIl3hYc4EhwH"
   },
   "outputs": [
    {
     "name": "stdout",
     "output_type": "stream",
     "text": [
      "Hello Delphine\n"
     ]
    }
   ],
   "source": [
    "# A. Write a function that accepts one parameter, name\n",
    "#    The function should print the message \"Hello, _____.\" filling in the blank with the name\n",
    "def Hi(name):\n",
    "    return print(f\"Hello {name}\")\n",
    "\n",
    "Hi('Delphine')"
   ]
  },
  {
   "cell_type": "code",
   "execution_count": 5,
   "metadata": {
    "id": "a-H-aeUUEhwI"
   },
   "outputs": [
    {
     "data": {
      "text/plain": [
       "True"
      ]
     },
     "execution_count": 5,
     "metadata": {},
     "output_type": "execute_result"
    }
   ],
   "source": [
    "# B. Write a function that accepts one parameter, a number\n",
    "#    The function should return true or false depending on whether the number is even\n",
    "\n",
    "def true_or_false(number):\n",
    "    '''\n",
    "    Enter a number and return True if it is an even number, False if it is uneven\n",
    "    '''\n",
    "    \n",
    "    return number%2 == 0\n",
    "\n",
    "true_or_false(2)"
   ]
  },
  {
   "cell_type": "code",
   "execution_count": 22,
   "metadata": {
    "id": "zSj69EJ9EhwJ"
   },
   "outputs": [
    {
     "data": {
      "text/plain": [
       "14"
      ]
     },
     "execution_count": 22,
     "metadata": {},
     "output_type": "execute_result"
    }
   ],
   "source": [
    "# C. Write a function that accepts one parameter, a list\n",
    "#    The function should return the sum total of all numbers in the list, using a loop\n",
    "\n",
    "def sum_list(liste):\n",
    "    somme = 0\n",
    "    for item in liste:\n",
    "        somme += item\n",
    "    return somme\n",
    "\n",
    "sum_list([9,5])"
   ]
  },
  {
   "cell_type": "code",
   "execution_count": 13,
   "metadata": {
    "id": "bdFQ6y1fEhwK"
   },
   "outputs": [
    {
     "data": {
      "text/plain": [
       "'Introducing Delphine de Sanglier, Python learner!'"
      ]
     },
     "execution_count": 13,
     "metadata": {},
     "output_type": "execute_result"
    }
   ],
   "source": [
    "# D. Write a function that accepts one parameter, a dictionary\n",
    "#    The function should print the message \"Introducing ______ ______, ________!\"\n",
    "#    Fill in the blanks with the \"first_name\", \"last_name\", and \"title\" properties of the dictionary\n",
    "\n",
    "dic = {'first_name' : 'Delphine',\n",
    "      'last_name' : 'de Sanglier',\n",
    "      'title' : 'Python learner'}\n",
    "\n",
    "def intro(dictionnary):\n",
    "    return f\"Introducing {dictionnary['first_name']} {dic['last_name']}, {dic['title']}!\"\n",
    "    \n",
    "intro(dic)"
   ]
  },
  {
   "cell_type": "code",
   "execution_count": 21,
   "metadata": {
    "id": "_XfNX0A5EhwK"
   },
   "outputs": [],
   "source": [
    "# 5.2 Problem-Solving Functions"
   ]
  },
  {
   "cell_type": "code",
   "execution_count": 50,
   "metadata": {
    "id": "gNgcaQl5EhwL"
   },
   "outputs": [
    {
     "data": {
      "text/plain": [
       "'list of string'"
      ]
     },
     "execution_count": 50,
     "metadata": {},
     "output_type": "execute_result"
    }
   ],
   "source": [
    "# A. Find the longest string in a given list of strings\n",
    "given_list = ['hey', 'this', 'is', 'a', 'super', 'list of string']\n",
    "\n",
    "# find the lenght of each string\n",
    "def longest_string(list_of_strings):\n",
    "    \n",
    "    \"\"\"\n",
    "    Will return the longest string present in the given list of strings\n",
    "    \"\"\"\n",
    "\n",
    "    return max(list_of_strings, key=len)\n",
    "\n",
    "longest_string(given_list)"
   ]
  },
  {
   "cell_type": "code",
   "execution_count": 53,
   "metadata": {
    "id": "Z9FFbKm9EhwL"
   },
   "outputs": [
    {
     "data": {
      "text/plain": [
       "False"
      ]
     },
     "execution_count": 53,
     "metadata": {},
     "output_type": "execute_result"
    }
   ],
   "source": [
    "# B. Determine whether a given list contains a given value\n",
    "\n",
    "def contains_value(given_list, value):\n",
    "    \"\"\"\n",
    "    This function will return True if the value is in the list\n",
    "    \"\"\"\n",
    "\n",
    "    return value in given_list\n",
    "\n",
    "contains_value(given_list, 'uio')"
   ]
  },
  {
   "cell_type": "code",
   "execution_count": 178,
   "metadata": {
    "id": "N8emPzk9EhwM"
   },
   "outputs": [
    {
     "data": {
      "text/plain": [
       "4"
      ]
     },
     "execution_count": 178,
     "metadata": {},
     "output_type": "execute_result"
    }
   ],
   "source": [
    "# C. Count how many times a given string contains a given letter\n",
    "\n",
    "given_string = \"wow the weather is so cold today, let's move to Thailand\"\n",
    "\n",
    "def letter_count(given_string, letter):\n",
    "    \"\"\"\n",
    "    This function will count how manaay times a given string contains a given letter\n",
    "    \"\"\"\n",
    "    letter_count = given_string.count(letter) \n",
    "    \n",
    "    return letter_count\n",
    "\n",
    "\n",
    "letter_count(given_string, 'a')"
   ]
  },
  {
   "cell_type": "code",
   "execution_count": 179,
   "metadata": {
    "id": "ghphf1quEhwN"
   },
   "outputs": [
    {
     "name": "stdout",
     "output_type": "stream",
     "text": [
      "The letter o is the most common letter in the string and appears 6 times\n"
     ]
    }
   ],
   "source": [
    "# D. Find the most common letter in a given string, and use the previous function in your answer\n",
    "\n",
    "def most_common_letter(given_string):\n",
    "    \"\"\"\n",
    "    This function will find the most common letter in a given string \n",
    "    Will return the letter and number of occurences\n",
    "    \"\"\"\n",
    "       \n",
    "    # Create an empty list\n",
    "    count_all_letters = []   \n",
    "\n",
    "    for letter in given_string:\n",
    "        # don't count the empty spaces\n",
    "        if letter == \" \":\n",
    "            pass\n",
    "        # Count the occurences of each letters and add them to the list\n",
    "        else:\n",
    "            count_all_letters.append(letter_count(given_string, letter))\n",
    "        \n",
    "        # sort the list -- so we can get the index = 0 as the highest occurence value\n",
    "        count_all_letters.sort(reverse=True)\n",
    "\n",
    "    # create an empty list, this is in case a few letters appear the same amount of time.\n",
    "    letters_max_count = []\n",
    "    \n",
    "    for letter in given_string:\n",
    "        # this is the max occurences we are looking for\n",
    "        occurences = count_all_letters[0]\n",
    "        \n",
    "        # If that letter appears the same amount of time, add to the list\n",
    "        if letter_count(given_string, letter) == occurences:\n",
    "            letters_max_count.append(letter)\n",
    "\n",
    "    # Remove the duplicates        \n",
    "    letters_max_count = list(set(letters_max_count))\n",
    "\n",
    "\n",
    "    # Case 1: only one letter appears a max of times:\n",
    "    if len(letters_max_count) == 1:\n",
    "        return print(\"The letter\", *letters_max_count, f\"is the most common letter in the string and appears {occurences} times\")     \n",
    "\n",
    "    # Case 2 : multiple letters appear the same amount of time\n",
    "    else: \n",
    "        return print(\"The letters\", *letters_max_count, f\"are the most common letter in the string and appears {occurences} times\")\n",
    "\n",
    "\n",
    "\n",
    "most_common_letter(given_string)"
   ]
  },
  {
   "cell_type": "code",
   "execution_count": 75,
   "metadata": {
    "id": "ZZPKxuQTEhwN"
   },
   "outputs": [
    {
     "data": {
      "text/plain": [
       "15.0"
      ]
     },
     "execution_count": 75,
     "metadata": {},
     "output_type": "execute_result"
    }
   ],
   "source": [
    "# E. Find the area of a triangle given its base and height as parameters\n",
    "\n",
    "def triangle_area(base, height):\n",
    "    return (base*height)/2\n",
    "\n",
    "triangle_area(5,6)"
   ]
  },
  {
   "cell_type": "code",
   "execution_count": null,
   "metadata": {},
   "outputs": [],
   "source": []
  }
 ],
 "metadata": {
  "colab": {
   "collapsed_sections": [],
   "name": "05. Functions.ipynb",
   "provenance": []
  },
  "kernelspec": {
   "display_name": "Python 3",
   "language": "python",
   "name": "python3"
  },
  "language_info": {
   "codemirror_mode": {
    "name": "ipython",
    "version": 3
   },
   "file_extension": ".py",
   "mimetype": "text/x-python",
   "name": "python",
   "nbconvert_exporter": "python",
   "pygments_lexer": "ipython3",
   "version": "3.6.10"
  }
 },
 "nbformat": 4,
 "nbformat_minor": 1
}
