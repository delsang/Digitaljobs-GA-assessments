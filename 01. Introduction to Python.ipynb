{
 "cells": [
  {
   "cell_type": "markdown",
   "metadata": {},
   "source": [
    "# Delphine de Sanglier"
   ]
  },
  {
   "cell_type": "code",
   "execution_count": 1,
   "metadata": {},
   "outputs": [
    {
     "name": "stdout",
     "output_type": "stream",
     "text": [
      "The Zen of Python, by Tim Peters\n",
      "\n",
      "Beautiful is better than ugly.\n",
      "Explicit is better than implicit.\n",
      "Simple is better than complex.\n",
      "Complex is better than complicated.\n",
      "Flat is better than nested.\n",
      "Sparse is better than dense.\n",
      "Readability counts.\n",
      "Special cases aren't special enough to break the rules.\n",
      "Although practicality beats purity.\n",
      "Errors should never pass silently.\n",
      "Unless explicitly silenced.\n",
      "In the face of ambiguity, refuse the temptation to guess.\n",
      "There should be one-- and preferably only one --obvious way to do it.\n",
      "Although that way may not be obvious at first unless you're Dutch.\n",
      "Now is better than never.\n",
      "Although never is often better than *right* now.\n",
      "If the implementation is hard to explain, it's a bad idea.\n",
      "If the implementation is easy to explain, it may be a good idea.\n",
      "Namespaces are one honking great idea -- let's do more of those!\n"
     ]
    }
   ],
   "source": [
    "# 1.1 Our First Jupyter Cell\n",
    "# Select this cell and execute it by clicking run or using the shortcut, ctrl + enter\n",
    "# This will display the \"Zen of Python,\" describing the philosophy behind python\n",
    "import this"
   ]
  },
  {
   "cell_type": "code",
   "execution_count": 3,
   "metadata": {},
   "outputs": [
    {
     "data": {
      "text/plain": [
       "['__builtins__',\n",
       " '__cached__',\n",
       " '__doc__',\n",
       " '__file__',\n",
       " '__loader__',\n",
       " '__name__',\n",
       " '__package__',\n",
       " '__spec__',\n",
       " 'c',\n",
       " 'd',\n",
       " 'i',\n",
       " 's']"
      ]
     },
     "execution_count": 3,
     "metadata": {},
     "output_type": "execute_result"
    }
   ],
   "source": [
    "# Let's find the Easter egg!! \n",
    "dir(this)"
   ]
  },
  {
   "cell_type": "code",
   "execution_count": 42,
   "metadata": {},
   "outputs": [
    {
     "name": "stdout",
     "output_type": "stream",
     "text": [
      "this.c :  97\n",
      "this.i :  25\n"
     ]
    }
   ],
   "source": [
    "# Not too sure what these ones are about, any secret message here or just random?\n",
    "print(\"this.c : \", this.c)\n",
    "print(\"this.i : \", this.i)"
   ]
  },
  {
   "cell_type": "code",
   "execution_count": 38,
   "metadata": {},
   "outputs": [
    {
     "name": "stdout",
     "output_type": "stream",
     "text": [
      "The Zen of Python, by Tim Peters\n",
      "\n",
      "Beautiful is better than ugly.\n",
      "Explicit is better than implicit.\n",
      "Simple is better than complex.\n",
      "Complex is better than complicated.\n",
      "Flat is better than nested.\n",
      "Sparse is better than dense.\n",
      "Readability counts.\n",
      "Special cases aren't special enough to break the rules.\n",
      "Although practicality beats purity.\n",
      "Errors should never pass silently.\n",
      "Unless explicitly silenced.\n",
      "In the face of ambiguity, refuse the temptation to guess.\n",
      "There should be one-- and preferably only one --obvious way to do it.\n",
      "Although that way may not be obvious at first unless you're Dutch.\n",
      "Now is better than never.\n",
      "Although never is often better than *right* now.\n",
      "If the implementation is hard to explain, it's a bad idea.\n",
      "If the implementation is easy to explain, it may be a good idea.\n",
      "Namespaces are one honking great idea -- let's do more of those!\n"
     ]
    }
   ],
   "source": [
    "# this.d is a dictionnary with a new alphabet order\n",
    "alphabet = this.d\n",
    "\n",
    "# this.s is a string to decript\n",
    "text = this.s\n",
    "\n",
    "# strings are immutable, so we need to work on them as lists, and then turn them back into strings when we are done\n",
    "text_list = list(text)\n",
    "\n",
    "# Decrypting the text\n",
    "for i in range(0, len(text_list)):\n",
    "    \n",
    "    # Get the letter from the list and replace it with the value in the dictionnary \n",
    "    try:               \n",
    "        text_list[i] = alphabet[text_list[i]]\n",
    "    \n",
    "    # Handle the empty spaces in the list showing as KeyError\n",
    "    except KeyError:\n",
    "        pass\n",
    "\n",
    "# Once finished, put the string back together and print\n",
    "decripted_text = \"\".join(text_list)\n",
    "\n",
    "print(decripted_text)"
   ]
  },
  {
   "cell_type": "code",
   "execution_count": 16,
   "metadata": {},
   "outputs": [
    {
     "name": "stdout",
     "output_type": "stream",
     "text": [
      "Hey, my name is Delphine and I am excited about learning python.\n"
     ]
    }
   ],
   "source": [
    "# 1.2 Introduce Yourself\n",
    "# Define the variables greeting, name, and mood, and assign them string-type values\n",
    "# Then, execute this cell to see an introduction message printed to the console\n",
    "greeting = \"Hey\"\n",
    "name = \"Delphine\"\n",
    "mood = \"excited\"\n",
    "\n",
    "print(greeting + \", my name is \" + name + \" and I am \" + mood + \" about learning python.\")"
   ]
  },
  {
   "cell_type": "code",
   "execution_count": 23,
   "metadata": {},
   "outputs": [
    {
     "name": "stdout",
     "output_type": "stream",
     "text": [
      "4.01\n"
     ]
    }
   ],
   "source": [
    "# 1.3 Operators and Updating Variables\n",
    "# Define numeric variables for the month and day of your birthdate to be used whenever requested\n",
    "\n",
    "\n",
    "# Write a new line of code beneath each comment, always updating the birthdate variable as you do so\n",
    "birthdate = 7\n",
    "# Multiply by the month \n",
    "birthdate = birthdate * 4\n",
    "# Subtract 1\n",
    "birthdate = birthdate - 1\n",
    "# Multiply by 13\n",
    "birthdate = birthdate * 13\n",
    "# Add the day of your birth\n",
    "birthdate = birthdate + 1\n",
    "# Add 3\n",
    "birthdate = birthdate + 3\n",
    "# Multiply by 11\n",
    "birthdate = birthdate * 11\n",
    "# Subtract the month of your birth\n",
    "birthdate = birthdate - 4\n",
    "# Subtract the day of your birth\n",
    "birthdate = birthdate - 1\n",
    "# Divide by 10\n",
    "birthdate = birthdate / 10\n",
    "# Add 11\n",
    "birthdate = birthdate + 11\n",
    "# Divide by 100\n",
    "birthdate = birthdate / 100\n",
    "# birthdate should now be a floating point number with the day.month of your birthday\n",
    "print(birthdate)"
   ]
  },
  {
   "cell_type": "code",
   "execution_count": 4,
   "metadata": {},
   "outputs": [
    {
     "data": {
      "text/plain": [
       "'it is the story of a pretty blue carrot jumping in a field of stones'"
      ]
     },
     "execution_count": 4,
     "metadata": {},
     "output_type": "execute_result"
    }
   ],
   "source": [
    "# 1.4 Python Mad Libs\n",
    "# Create a Mad Libs style game using string concatenation or the \"f-string\" style string interpolation\n",
    "# First, define at least 7 variables with names such as adjective_one or noun_three\n",
    "# Then, plug those variables into a long string that tells a story using those variables\n",
    "\n",
    "adj_one = \"pretty\"\n",
    "adj_two = \"blue\"\n",
    "noun_one = \"carrot\"\n",
    "verb_one = \"jumping\"\n",
    "noun_two = \"stones\"\n",
    "\n",
    "madlibs = \"it is the story of a {} {} {} {} in a field of {}\".format(adj_one, adj_two, noun_one, verb_one, noun_two)\n",
    "madlibs"
   ]
  },
  {
   "cell_type": "code",
   "execution_count": null,
   "metadata": {},
   "outputs": [],
   "source": [
    "# 1.5 Code Fast and Break Things\n",
    "# Each of the following lines of code is mistaken in some way\n",
    "# Either they contain errors or don't do what the user would expect them to\n",
    "# Correct each example, and write a comment explaining what went wrong"
   ]
  },
  {
   "cell_type": "code",
   "execution_count": 38,
   "metadata": {},
   "outputs": [
    {
     "name": "stdout",
     "output_type": "stream",
     "text": [
      "False\n",
      "False\n"
     ]
    }
   ],
   "source": [
    "string_bool = None\n",
    "test = bool(string_bool)\n",
    "print(test)\n",
    "print(str(test))"
   ]
  },
  {
   "cell_type": "code",
   "execution_count": null,
   "metadata": {},
   "outputs": [],
   "source": [
    "# A.\n",
    "\n",
    "# The variable wasn't defined\n",
    "\n",
    "my_variable = \"something\"\n",
    "print(my_variable)"
   ]
  },
  {
   "cell_type": "code",
   "execution_count": null,
   "metadata": {},
   "outputs": [],
   "source": [
    "# B.\n",
    "# Why didn't it print ten?\n",
    "\n",
    "#because the variable wasn't assigned with the new number\n",
    "\n",
    "my_number = 5\n",
    "my_number = my_number + 5\n",
    "print(my_number)"
   ]
  },
  {
   "cell_type": "code",
   "execution_count": 9,
   "metadata": {},
   "outputs": [
    {
     "name": "stdout",
     "output_type": "stream",
     "text": [
      "5 Hello\n"
     ]
    }
   ],
   "source": [
    "# C.\n",
    "\n",
    "my_num = 5\n",
    "my_string = \"Hello\"\n",
    "print(my_num  + my_string)"
   ]
  },
  {
   "cell_type": "code",
   "execution_count": 12,
   "metadata": {},
   "outputs": [
    {
     "name": "stdout",
     "output_type": "stream",
     "text": [
      "this is my_num1's type:  <class 'int'>\n",
      "this is my_num2's type:  <class 'str'>\n"
     ]
    }
   ],
   "source": [
    "# D.\n",
    "# The user expected the result to be 30!\n",
    "## they are strings, not numbers\n",
    "my_num1 = 10\n",
    "my_num2 = \"20\"\n",
    "#print(my_num1 + my_num2)\n",
    "print(\"this is my_num1's type: \", type(my_num1))\n",
    "print(\"this is my_num2's type: \", type(my_num2))"
   ]
  },
  {
   "cell_type": "code",
   "execution_count": 12,
   "metadata": {},
   "outputs": [
    {
     "name": "stdout",
     "output_type": "stream",
     "text": [
      "I enjoy python in the morning.\n"
     ]
    }
   ],
   "source": [
    "# E.\n",
    "# The user expected the message to read \"I enjoy python in the morning.\"\n",
    "language = \"python\"\n",
    "print(f\"I enjoy {language} in the morning.\")"
   ]
  },
  {
   "cell_type": "code",
   "execution_count": 31,
   "metadata": {},
   "outputs": [
    {
     "name": "stdout",
     "output_type": "stream",
     "text": [
      "There are 2 plums at home for me\n"
     ]
    }
   ],
   "source": [
    "# F.\n",
    "# The user expected the message to read \"There are 2 plums at home for me\"\n",
    "number_of_plums = '2'\n",
    "who_plums_are_for = 'me'\n",
    "print(\"There are \" + number_of_plums + \" plums at home for \" + who_plums_are_for)"
   ]
  },
  {
   "cell_type": "code",
   "execution_count": 16,
   "metadata": {},
   "outputs": [
    {
     "name": "stdout",
     "output_type": "stream",
     "text": [
      "hello world\n",
      "hi again world\n",
      "hello x 3 world\n"
     ]
    },
    {
     "data": {
      "text/plain": [
       "'Hello world !'"
      ]
     },
     "execution_count": 16,
     "metadata": {},
     "output_type": "execute_result"
    }
   ],
   "source": [
    "# 1.6 How many ways to print with variables\n",
    "# Programming provides many ways of doing the same thing\n",
    "# We've learned about concatenation and f-string interpolation so far\n",
    "# Below, research and demonstrate four different ways of including variables in a string in python\n",
    "# You don't need to understand exactly how they're working to get them to work!\n",
    "\n",
    "string = \"hello\"\n",
    "\n",
    "variable = \"world\"\n",
    "\n",
    "#1 :\n",
    "print( string + \" \" + variable)\n",
    "\n",
    "#2\n",
    "print(\"hi again {}\".format(variable))\n",
    "\n",
    "#3 \n",
    "print(f\"hello x 3 {variable}\")\n",
    "\n",
    "#4\n",
    "\"Hello %s !\"%variable"
   ]
  },
  {
   "cell_type": "code",
   "execution_count": null,
   "metadata": {},
   "outputs": [],
   "source": []
  }
 ],
 "metadata": {
  "kernelspec": {
   "display_name": "Python 3",
   "language": "python",
   "name": "python3"
  },
  "language_info": {
   "codemirror_mode": {
    "name": "ipython",
    "version": 3
   },
   "file_extension": ".py",
   "mimetype": "text/x-python",
   "name": "python",
   "nbconvert_exporter": "python",
   "pygments_lexer": "ipython3",
   "version": "3.6.10"
  }
 },
 "nbformat": 4,
 "nbformat_minor": 4
}
